{
 "cells": [
  {
   "cell_type": "code",
   "execution_count": 1,
   "metadata": {},
   "outputs": [],
   "source": [
    "import pandas as pd"
   ]
  },
  {
   "cell_type": "code",
   "execution_count": 2,
   "metadata": {},
   "outputs": [],
   "source": [
    "df = pd.read_excel('Final_data_cleaned.xlsx')"
   ]
  },
  {
   "cell_type": "code",
   "execution_count": 3,
   "metadata": {},
   "outputs": [
    {
     "data": {
      "text/plain": [
       "['IndiGo',\n",
       " 'Akasa Air',\n",
       " 'AirAsia',\n",
       " 'Vistara',\n",
       " 'Alliance Air',\n",
       " 'Air India',\n",
       " 'Star Air',\n",
       " 'SpiceJet',\n",
       " 'Air India Express',\n",
       " 'AIX Connect',\n",
       " 'Cathay Pacific Cargo',\n",
       " 'Malaysia Airlines',\n",
       " 'EuroAtlantic Airways',\n",
       " 'Malaysia Airlines (Malaysia Negaraku Livery)',\n",
       " 'Air India Express (Samai-Diya Livery)',\n",
       " 'Air India Express (Great Stupa-Charminar Livery)',\n",
       " 'Qatar Airways',\n",
       " 'SalamAir',\n",
       " 'FlyDubai',\n",
       " 'Air India Express (Peacock-Stork Livery)',\n",
       " 'Qatar Airways (25 Years of Excellence Sticker)',\n",
       " 'SmartLynx',\n",
       " 'Air India Express (Harmandir Sahib-Jumping Man)',\n",
       " 'Air India Express (Ellora-Ajanta Caves Livery)',\n",
       " 'Emirates',\n",
       " 'flydubai',\n",
       " 'Etihad Airways',\n",
       " 'Air Arabia',\n",
       " 'British Airways',\n",
       " 'SF Airlines',\n",
       " 'Gulf Air',\n",
       " 'Oman Air',\n",
       " 'IndiaOne Air',\n",
       " 'flynas',\n",
       " 'Corendon Airlines',\n",
       " 'SriLankan Airlines',\n",
       " 'Air india (Star Alliance Livery)',\n",
       " 'China Eastern Airlines',\n",
       " 'Air India Express (Garba-Bihu Dance Livery)',\n",
       " 'Air India Express (Sitar-Tabla Livery)',\n",
       " 'Air India Express (Konark Sun Temple-Taj Mahal)',\n",
       " 'Air India Express (Qutb Minar-Jantar Mantar)',\n",
       " 'Blue Dart Aviation',\n",
       " 'IndiGo CarGo',\n",
       " 'Turkish Airlines',\n",
       " 'India One Air',\n",
       " 'Air India Express (Kochi-Muziris Biennale Livery)',\n",
       " 'US-Bangla Airlines',\n",
       " 'Air India Express (Beach-Himalayas Livery)',\n",
       " 'Singapore Airlines',\n",
       " 'Egyptair (90 Years Sticker)',\n",
       " 'Saudia',\n",
       " 'SkyUp Airlines',\n",
       " 'BBN Airlines Indonesia',\n",
       " 'AIX Connect (The Pioneer Livery)',\n",
       " 'Air India Express (Himalayan Peaks-Desert Livery)',\n",
       " 'Fly91',\n",
       " 'Air India Express (Mehrangarh Fort-Mysore Livery)',\n",
       " 'Scoot',\n",
       " 'AirAsia X',\n",
       " 'Batik Air',\n",
       " 'Neos',\n",
       " 'AirAsia (Allstars Livery)',\n",
       " 'Vistara (50 Aircraft Strong Sticker)',\n",
       " 'Air India Express (Ragini Todi-Solah Shringar)',\n",
       " 'Qantas (Oneworld Livery)',\n",
       " 'Air India Express (Nagaland Folk-Manipuri Dance)',\n",
       " 'Air India Express (Kathakali-Bharatanatyam Livery)',\n",
       " 'Vistara (Retro Livery)',\n",
       " 'Air India Express (Rangoli-Kites Livery)',\n",
       " 'AirAsia (I ❤ Kelantan Livery)',\n",
       " 'Air India Express (Hans Damayanti Music Livery)',\n",
       " 'SpiceJet (Danube Properties Livery)',\n",
       " 'Legend Airlines',\n",
       " 'Druk Air',\n",
       " 'Air India Express (Patola-Shawl Livery)',\n",
       " 'Air India (Mahatma Gandhi Livery)',\n",
       " 'Air India (Star Alliance Livery)']"
      ]
     },
     "execution_count": 3,
     "metadata": {},
     "output_type": "execute_result"
    }
   ],
   "source": [
    "list(df.AIRLINE.unique())"
   ]
  },
  {
   "cell_type": "code",
   "execution_count": 3,
   "metadata": {},
   "outputs": [],
   "source": [
    "df.AIRLINE = df.AIRLINE.astype('string').apply(lambda x:x.split(\"(\")[0])"
   ]
  },
  {
   "cell_type": "code",
   "execution_count": 4,
   "metadata": {},
   "outputs": [],
   "source": [
    "df.AIRLINE = df.AIRLINE.astype('string').apply(lambda x:x.strip())"
   ]
  },
  {
   "cell_type": "code",
   "execution_count": 48,
   "metadata": {},
   "outputs": [
    {
     "data": {
      "text/plain": [
       "array(['IndiGo', 'Akasa Air', 'AirAsia', 'Vistara', 'Alliance Air',\n",
       "       'Air India', 'Star Air', 'SpiceJet', 'Air India Express',\n",
       "       'AIX Connect', 'Cathay Pacific Cargo', 'Malaysia Airlines',\n",
       "       'EuroAtlantic Airways', 'Qatar Airways', 'SalamAir', 'FlyDubai',\n",
       "       'SmartLynx', 'Emirates', 'flydubai', 'Etihad Airways',\n",
       "       'Air Arabia', 'British Airways', 'SF Airlines', 'Gulf Air',\n",
       "       'Oman Air', 'IndiaOne Air', 'flynas', 'Corendon Airlines',\n",
       "       'SriLankan Airlines', 'Air india', 'China Eastern Airlines',\n",
       "       'Blue Dart Aviation', 'IndiGo CarGo', 'Turkish Airlines',\n",
       "       'India One Air', 'US-Bangla Airlines', 'Singapore Airlines',\n",
       "       'Egyptair', 'Saudia', 'SkyUp Airlines', 'BBN Airlines Indonesia',\n",
       "       'Fly91', 'Scoot', 'AirAsia X', 'Batik Air', 'Neos', 'Qantas',\n",
       "       'Legend Airlines', 'Druk Air'], dtype=object)"
      ]
     },
     "execution_count": 48,
     "metadata": {},
     "output_type": "execute_result"
    }
   ],
   "source": [
    "df.AIRLINE.unique()"
   ]
  },
  {
   "cell_type": "code",
   "execution_count": 49,
   "metadata": {},
   "outputs": [
    {
     "data": {
      "text/plain": [
       "Index(['Unnamed: 0', 'TIME', 'FLIGHT', 'FROM', 'AIRLINE', 'AIRCRAFT', 'STATUS',\n",
       "       'DATE', 'ARRIVAL_AIRPORT_CODE', 'ARRIVAL_AIRPORT_NAME',\n",
       "       'WEATHER_ARRIVAL', 'WIND_ARRIVAL', 'DIRECTION_ARRIVAL',\n",
       "       'WEATHER_DEPARTURE', 'WIND_DEPARTURE', 'DIRECTION_DEPARTURE',\n",
       "       'Scheduled_departures', 'Actual_departures', 'Flight_duration',\n",
       "       'Scheduled_arrival', 'Delay'],\n",
       "      dtype='object')"
      ]
     },
     "execution_count": 49,
     "metadata": {},
     "output_type": "execute_result"
    }
   ],
   "source": [
    "df.columns"
   ]
  },
  {
   "cell_type": "code",
   "execution_count": 5,
   "metadata": {},
   "outputs": [
    {
     "data": {
      "text/plain": [
       "Unnamed: 0               int64\n",
       "TIME                    object\n",
       "FLIGHT                  object\n",
       "FROM                    object\n",
       "AIRLINE                 object\n",
       "AIRCRAFT                object\n",
       "STATUS                  object\n",
       "DATE                    object\n",
       "ARRIVAL_AIRPORT_CODE    object\n",
       "ARRIVAL_AIRPORT_NAME    object\n",
       "WEATHER_ARRIVAL         object\n",
       "WIND_ARRIVAL            object\n",
       "DIRECTION_ARRIVAL       object\n",
       "WEATHER_DEPARTURE       object\n",
       "WIND_DEPARTURE          object\n",
       "DIRECTION_DEPARTURE     object\n",
       "Scheduled_departures    object\n",
       "Actual_departures       object\n",
       "Flight_duration         object\n",
       "Scheduled_arrival       object\n",
       "Delay                    int64\n",
       "dtype: object"
      ]
     },
     "execution_count": 5,
     "metadata": {},
     "output_type": "execute_result"
    }
   ],
   "source": [
    "df.dtypes"
   ]
  },
  {
   "cell_type": "code",
   "execution_count": 6,
   "metadata": {},
   "outputs": [],
   "source": [
    "df = df.drop(columns=df.columns[0])"
   ]
  },
  {
   "cell_type": "code",
   "execution_count": 7,
   "metadata": {},
   "outputs": [
    {
     "data": {
      "text/plain": [
       "TIME                    object\n",
       "FLIGHT                  object\n",
       "FROM                    object\n",
       "AIRLINE                 object\n",
       "AIRCRAFT                object\n",
       "STATUS                  object\n",
       "DATE                    object\n",
       "ARRIVAL_AIRPORT_CODE    object\n",
       "ARRIVAL_AIRPORT_NAME    object\n",
       "WEATHER_ARRIVAL         object\n",
       "WIND_ARRIVAL            object\n",
       "DIRECTION_ARRIVAL       object\n",
       "WEATHER_DEPARTURE       object\n",
       "WIND_DEPARTURE          object\n",
       "DIRECTION_DEPARTURE     object\n",
       "Scheduled_departures    object\n",
       "Actual_departures       object\n",
       "Flight_duration         object\n",
       "Scheduled_arrival       object\n",
       "Delay                    int64\n",
       "dtype: object"
      ]
     },
     "execution_count": 7,
     "metadata": {},
     "output_type": "execute_result"
    }
   ],
   "source": [
    "df.dtypes"
   ]
  },
  {
   "cell_type": "code",
   "execution_count": 4,
   "metadata": {},
   "outputs": [],
   "source": [
    "df[df.columns[:-1]] = df[df.columns[:-1]].astype('string')"
   ]
  },
  {
   "cell_type": "code",
   "execution_count": 5,
   "metadata": {},
   "outputs": [],
   "source": [
    "to_rename = ['WEATHER_ARRIVAL(celsius)', 'WIND_ARRIVAL(kts)', 'DIRECTION_ARRIVAL(degrees)',\n",
    "       'WEATHER_DEPARTURE(celcius)', 'WIND_DEPARTURE(kts)', 'DIRECTION_DEPARTURE(degrees)']"
   ]
  },
  {
   "cell_type": "code",
   "execution_count": 6,
   "metadata": {},
   "outputs": [],
   "source": [
    "to_be_renamed = list(df.columns[9:15])"
   ]
  },
  {
   "cell_type": "code",
   "execution_count": 1,
   "metadata": {},
   "outputs": [
    {
     "ename": "NameError",
     "evalue": "name 'pd' is not defined",
     "output_type": "error",
     "traceback": [
      "\u001b[1;31m---------------------------------------------------------------------------\u001b[0m",
      "\u001b[1;31mNameError\u001b[0m                                 Traceback (most recent call last)",
      "Cell \u001b[1;32mIn[1], line 1\u001b[0m\n\u001b[1;32m----> 1\u001b[0m pd\u001b[38;5;241m.\u001b[39mDataFrame([to_be_renamed, to_rename])\u001b[38;5;241m.\u001b[39mT\u001b[38;5;241m.\u001b[39mto_dict()\n",
      "\u001b[1;31mNameError\u001b[0m: name 'pd' is not defined"
     ]
    }
   ],
   "source": [
    "pd.DataFrame([to_be_renamed, to_rename]).T.to_dict()"
   ]
  },
  {
   "cell_type": "code",
   "execution_count": 13,
   "metadata": {},
   "outputs": [
    {
     "data": {
      "text/plain": [
       "Index(['WEATHER_ARRIVAL', 'WIND_ARRIVAL', 'DIRECTION_ARRIVAL',\n",
       "       'WEATHER_DEPARTURE', 'WIND_DEPARTURE', 'DIRECTION_DEPARTURE'],\n",
       "      dtype='object')"
      ]
     },
     "execution_count": 13,
     "metadata": {},
     "output_type": "execute_result"
    }
   ],
   "source": [
    "df.columns[9:15]"
   ]
  },
  {
   "cell_type": "code",
   "execution_count": 9,
   "metadata": {},
   "outputs": [],
   "source": [
    "dict = pd.Series(df.columns).to_dict()"
   ]
  },
  {
   "cell_type": "code",
   "execution_count": 10,
   "metadata": {},
   "outputs": [
    {
     "data": {
      "text/plain": [
       "{0: 'TIME',\n",
       " 1: 'FLIGHT',\n",
       " 2: 'FROM',\n",
       " 3: 'AIRLINE',\n",
       " 4: 'AIRCRAFT',\n",
       " 5: 'STATUS',\n",
       " 6: 'DATE',\n",
       " 7: 'ARRIVAL_AIRPORT_CODE',\n",
       " 8: 'ARRIVAL_AIRPORT_NAME',\n",
       " 9: 'WEATHER_ARRIVAL',\n",
       " 10: 'WIND_ARRIVAL',\n",
       " 11: 'DIRECTION_ARRIVAL',\n",
       " 12: 'WEATHER_DEPARTURE',\n",
       " 13: 'WIND_DEPARTURE',\n",
       " 14: 'DIRECTION_DEPARTURE',\n",
       " 15: 'Scheduled_departures',\n",
       " 16: 'Actual_departures',\n",
       " 17: 'Flight_duration',\n",
       " 18: 'Scheduled_arrival',\n",
       " 19: 'Delay'}"
      ]
     },
     "execution_count": 10,
     "metadata": {},
     "output_type": "execute_result"
    }
   ],
   "source": [
    "dict"
   ]
  },
  {
   "cell_type": "code",
   "execution_count": null,
   "metadata": {},
   "outputs": [],
   "source": []
  }
 ],
 "metadata": {
  "kernelspec": {
   "display_name": "Python 3",
   "language": "python",
   "name": "python3"
  },
  "language_info": {
   "codemirror_mode": {
    "name": "ipython",
    "version": 3
   },
   "file_extension": ".py",
   "mimetype": "text/x-python",
   "name": "python",
   "nbconvert_exporter": "python",
   "pygments_lexer": "ipython3",
   "version": "3.11.9"
  }
 },
 "nbformat": 4,
 "nbformat_minor": 2
}
